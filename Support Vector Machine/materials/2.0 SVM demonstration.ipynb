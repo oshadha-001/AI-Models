{
 "cells": [
  {
   "cell_type": "code",
   "execution_count": 1,
   "metadata": {},
   "outputs": [],
   "source": [
    "# Rain or No Rain Problem\n",
    "import numpy as np\n",
    "\n",
    "#Temp,Humidity,label\n",
    "\n",
    "dataset=np.array([[28,80,1],\n",
    "                 [35,60,0],\n",
    "                 [37,50,0],\n",
    "                 [25,90,1],\n",
    "                 [38,68,0],\n",
    "                 [33,77,0],\n",
    "                  [21,88,1],\n",
    "                 [32,75,0],\n",
    "                 [28,82,1],\n",
    "                 [32,65,0],\n",
    "                 [22,60,1],\n",
    "                 [37.5,90,0],\n",
    "                 [25,55,1],\n",
    "                 [24,75,1]])"
   ]
  },
  {
   "cell_type": "code",
   "execution_count": 2,
   "metadata": {},
   "outputs": [],
   "source": [
    "data=dataset[:,0:2]\n",
    "target=dataset[:,2]"
   ]
  },
  {
   "cell_type": "code",
   "execution_count": 11,
   "metadata": {},
   "outputs": [
    {
     "name": "stdout",
     "output_type": "stream",
     "text": [
      "[[32. 75.]\n",
      " [28. 80.]\n",
      " [25. 55.]]\n"
     ]
    },
    {
     "data": {
      "image/png": "[encoded data removed]",
      "text/plain": [
       "<Figure size 432x288 with 1 Axes>"
      ]
     },
     "metadata": {
      "needs_background": "light"
     },
     "output_type": "display_data"
    }
   ],
   "source": [
    "from matplotlib import pyplot as plt\n",
    "\n",
    "for i in range(len(dataset)):\n",
    "    \n",
    "    if(target[i]==0):\n",
    "    \n",
    "        plt.scatter(data[i,0],data[i,1],c='b')\n",
    "    \n",
    "    else:\n",
    "        \n",
    "        plt.scatter(data[i,0],data[i,1],c='r')\n",
    "        \n",
    "from sklearn.svm import SVC\n",
    "\n",
    "model=SVC(kernel='linear')\n",
    "model.fit(data,target)\n",
    "\n",
    "svector=model.support_vectors_\n",
    "\n",
    "print(svector)\n",
    "\n",
    "plt.scatter(svector[:,0],svector[:,1])\n",
    "\n",
    "plt.xlabel('Temperature(C)')\n",
    "plt.ylabel('Humidity(%)')\n",
    "plt.show()"
   ]
  },
  {
   "cell_type": "code",
   "execution_count": 15,
   "metadata": {},
   "outputs": [
    {
     "data": {
      "text/plain": [
       "array([1.])"
      ]
     },
     "execution_count": 15,
     "metadata": {},
     "output_type": "execute_result"
    }
   ],
   "source": [
    "model.predict([[28,75]])"
   ]
  },
  {
   "cell_type": "code",
   "execution_count": null,
   "metadata": {},
   "outputs": [],
   "source": []
  }
 ],
 "metadata": {
  "kernelspec": {
   "display_name": "Python 3",
   "language": "python",
   "name": "python3"
  },
  "language_info": {
   "codemirror_mode": {
    "name": "ipython",
    "version": 3
   },
   "file_extension": ".py",
   "mimetype": "text/x-python",
   "name": "python",
   "nbconvert_exporter": "python",
   "pygments_lexer": "ipython3",
   "version": "3.6.8"
  }
 },
 "nbformat": 4,
 "nbformat_minor": 2
}
